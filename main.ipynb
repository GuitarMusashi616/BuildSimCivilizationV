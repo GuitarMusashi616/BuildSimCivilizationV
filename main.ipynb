{
 "cells": [
  {
   "cell_type": "code",
   "execution_count": null,
   "id": "8884aaab",
   "metadata": {},
   "outputs": [],
   "source": [
    "# try to just play the game, add coord to each unit, maybe make a grassland only map and settle a settler"
   ]
  },
  {
   "cell_type": "code",
   "execution_count": null,
   "id": "16611ad5",
   "metadata": {},
   "outputs": [],
   "source": [
    "# make a settler, settle a city, make a worker, do a tile improvement"
   ]
  },
  {
   "cell_type": "code",
   "execution_count": 1,
   "id": "d3867eda",
   "metadata": {},
   "outputs": [
    {
     "name": "stdout",
     "output_type": "stream",
     "text": [
      "CIVILIZATON STATS\n",
      "\tscience: +4\n",
      "\tresearch: []\n",
      "\tgold: 0 (+3)\n",
      "\thappiness: 5 (+9, -4)\n",
      "\tculture: 0/15 (+1) [15 turns]\n",
      "\tpolicies: []\n",
      "\tfaith: 0 (+0)\n",
      "\n",
      "\tresearch queue: []\n",
      "\tsocial policy queue: []\n",
      "\n",
      "\tunits: {}\n",
      "CITY 0\n",
      "\tpop: 1\n",
      "\tfood: 0/10 (+3) [4 turns]\n",
      "\tproduction: 0/56 (+5) [12 turns]\n",
      "\tgold: +3\n",
      "\tscience: +4\n",
      "\tfaith: +0\n",
      "\ttourism: +0\n",
      "\tculture: 0/10 (+1) [10 turns]\n",
      "\n",
      "\tproduction queue: [Unit(unit_type=<UnitType.SETTLER: 2>, hammers_req=56)]\n",
      "\n"
     ]
    }
   ],
   "source": [
    "from core.City import City\n",
    "from core.Civ import Civ\n",
    "from enums.Nation import Nation\n",
    "from queueable.Unit import Unit\n",
    "from queueable.UnitFactory import UnitFactory\n",
    "from queueable.UnitType import UnitType\n",
    "from tile.ResourceType import ResourceType\n",
    "from tile.TerrainType import TerrainType\n",
    "from tile.Tile import Tile\n",
    "\n",
    "\n",
    "\n",
    "base = [\n",
    "    Tile(TerrainType.GRASSLAND_HILL_RIVER),\n",
    "    Tile(TerrainType.GRASSLAND_RIVER, ResourceType.CATTLE),\n",
    "    Tile(TerrainType.GRASSLAND_HILL_RIVER, ResourceType.SILVER),\n",
    "\n",
    "    Tile(TerrainType.COAST),\n",
    "    Tile(TerrainType.COAST),\n",
    "    Tile(TerrainType.COAST),\n",
    "\n",
    "    Tile(TerrainType.GRASSLAND_RIVER),\n",
    "]\n",
    "\n",
    "civ = Civ(Nation.EGYPT)\n",
    "capital = civ.create_city(base)\n",
    "capital.queue_up(UnitFactory.settler())\n",
    "\n",
    "civ.stats()\n",
    "\n"
   ]
  },
  {
   "cell_type": "code",
   "execution_count": 10,
   "id": "78bdfcdd",
   "metadata": {},
   "outputs": [
    {
     "name": "stdout",
     "output_type": "stream",
     "text": [
      "CIVILIZATON STATS\n",
      "\tscience: +1\n",
      "\tresearch: []\n",
      "\tgold: 0 (+0)\n",
      "\thappiness: 5 (+9, -4)\n",
      "\tculture: 0/15 (+0) [-1 turns]\n",
      "\tpolicies: []\n",
      "\tfaith: 0 (+0)\n",
      "\n",
      "\tresearch queue: []\n",
      "\tsocial policy queue: []\n",
      "\n",
      "\tunits: {}\n",
      "CITY 0\n",
      "\tpop: 1\n",
      "\tfood: -2/10 (+-2) [-6 turns]\n",
      "\tproduction: 0/56 (+0) [-1 turns]\n",
      "\tgold: +0\n",
      "\tscience: +1\n",
      "\tfaith: +0\n",
      "\ttourism: +0\n",
      "\tculture: 0/10 (+0) [-1 turns]\n",
      "\n",
      "\tproduction queue: [Unit(unit_type=<UnitType.SETTLER: 2>, hammers_req=56)]\n",
      "\n"
     ]
    }
   ],
   "source": [
    "civ.next_turn()\n",
    "civ.stats()"
   ]
  },
  {
   "cell_type": "code",
   "execution_count": null,
   "id": "5fa016ee",
   "metadata": {},
   "outputs": [],
   "source": []
  }
 ],
 "metadata": {
  "kernelspec": {
   "display_name": "Python 3",
   "language": "python",
   "name": "python3"
  },
  "language_info": {
   "codemirror_mode": {
    "name": "ipython",
    "version": 3
   },
   "file_extension": ".py",
   "mimetype": "text/x-python",
   "name": "python",
   "nbconvert_exporter": "python",
   "pygments_lexer": "ipython3",
   "version": "3.12.7"
  }
 },
 "nbformat": 4,
 "nbformat_minor": 5
}
