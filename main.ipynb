{
 "cells": [
  {
   "cell_type": "code",
   "execution_count": null,
   "id": "ae5cc3fa",
   "metadata": {},
   "outputs": [
    {
     "data": {
      "text/plain": [
       "TileOutput(food=2, prod=-2, gold=0, culture=0, science=0, faith=0)"
      ]
     },
     "execution_count": 2,
     "metadata": {},
     "output_type": "execute_result"
    }
   ],
   "source": [
    "from tile.TileOutput import TileOutput\n",
    "\n",
    "\n",
    "grass = TileOutput(2, 0, 0, 0, 0, 0)\n",
    "hill = TileOutput(0, 2, 0, 0, 0, 0)\n",
    "\n",
    "grass+hill\n",
    "\n"
   ]
  },
  {
   "cell_type": "code",
   "execution_count": null,
   "id": "15c86eb4",
   "metadata": {},
   "outputs": [],
   "source": [
    "from src.core.Civ import Civ, Nation\n",
    "from queueable.WonderFactory import WonderFactory\n",
    "from test import babylon_race_fixture\n",
    "from core.City import City\n",
    "from queueable.UnitFactory import UnitFactory\n",
    "from tile.TileFactory import TileFactory\n",
    "\n",
    "def egypt_turn_0():\n",
    "    civ = Civ(Nation.EGYPT)\n",
    "    civ.add_unit(UnitFactory.settler(), 0)\n",
    "    civ.add_unit(UnitFactory.warrior(), 1)\n",
    "    return civ\n",
    "\n",
    "\n",
    "def egypt_base_fixture():\n",
    "    base = [\n",
    "        TileFactory.grassland_hill_river(),\n",
    "        TileFactory.grassland_hill(),\n",
    "        TileFactory.forest_grassland(),\n",
    "        TileFactory.grassland_river(),\n",
    "        TileFactory.grassland_river(),\n",
    "        TileFactory.plains_river(),\n",
    "        TileFactory.grassland_river_stone(),\n",
    "\n",
    "        TileFactory.grassland_hill(),\n",
    "        TileFactory.forest_grassland(),\n",
    "        TileFactory.grassland_river(),\n",
    "        TileFactory.grassland_river(),\n",
    "        TileFactory.plains_river(),\n",
    "        TileFactory.grassland_river_stone(),\n",
    "    ]\n",
    "\n",
    "    civ = Civ(Nation.BABYLON)  # found city turn 1\n",
    "\n",
    "    capital = City(base)\n",
    "    capital.add_wonder(WonderFactory.palace())\n",
    "    capital.pick_tiles_with_strat()\n",
    "\n",
    "    civ.add_city(capital, 1)\n",
    "\n",
    "    return civ"
   ]
  },
  {
   "cell_type": "code",
   "execution_count": 3,
   "id": "ce9ef324",
   "metadata": {},
   "outputs": [
    {
     "name": "stdout",
     "output_type": "stream",
     "text": [
      "CIVILIZATON STATS\n",
      "\tscience: +0\n",
      "\tresearch: []\n",
      "\tgold: 0 (+0)\n",
      "\thappiness: 9 (+9, -0)\n",
      "\tculture: 0/10 (+0) [-1 turns]\n",
      "\tpolicies: []\n",
      "\tfaith: 0 (+0)\n",
      "\n",
      "\tresearch queue: []\n",
      "\tsocial policy queue: []\n",
      "\n",
      "\tunits: {0: Unit(unit_type=<UnitType.SETTLER: 2>, hammers_req=56), 1: Unit(unit_type=<UnitType.WARRIOR: 3>, hammers_req=26)}\n"
     ]
    }
   ],
   "source": [
    "civ = egypt_turn_0()\n",
    "civ.stats()"
   ]
  },
  {
   "cell_type": "code",
   "execution_count": null,
   "id": "316d009e",
   "metadata": {},
   "outputs": [],
   "source": [
    "civ"
   ]
  },
  {
   "cell_type": "code",
   "execution_count": 14,
   "id": "77bf3ccb",
   "metadata": {},
   "outputs": [],
   "source": [
    "# for i in range(1, 100):\n",
    "#     print(f\"TURN {i}\")\n",
    "#     print()\n",
    "#     civ.stats()\n",
    "#     civ.next_turn()"
   ]
  },
  {
   "cell_type": "code",
   "execution_count": 15,
   "id": "45bb1046",
   "metadata": {},
   "outputs": [
    {
     "name": "stdout",
     "output_type": "stream",
     "text": [
      "CIVILIZATON STATS\n",
      "\tscience: 0/35 (+4) [9 turns]\n",
      "\tresearch: []\n",
      "\tgold: 0 (+3)\n",
      "\thappiness: 5 (+9, -4)\n",
      "\tculture: 0/15 (+1) [15 turns]\n",
      "\tpolicies: []\n",
      "\tfaith: 0 (+0)\n",
      "\n",
      "\tresearch queue: [Tech(name='Pottery', science=35), Tech(name='Writing', science=55)]\n",
      "\tsocial policy queue: [Policy(name='Oligarchy')]\n",
      "\n",
      "\tunits: {}\n",
      "CITY 1\n",
      "\tpop: 1\n",
      "\tfood: 0/10 (+2) [5 turns]\n",
      "\tproduction: 0/46 (+5) [10 turns]\n",
      "\tgold: +3\n",
      "\tscience: +4\n",
      "\tfaith: +0\n",
      "\ttourism: +0\n",
      "\tculture: 0/10 (+1) [10 turns]\n",
      "\n",
      "\tproduction queue: [Unit(unit_type=<UnitType.WORKER: 1>, hammers_req=46), Building(name='Granary', hammers_req=60, culture=0, defense=0, gold=0, science=0, prod=0, great_work_art_slots=0, food=2, faith=0), Wonder(name='Great Library', culture=0, defense=0, gold=0, science=3, prod=0, great_work_art_slots=0, food=0, faith=0, hammers_req=185)]\n",
      "\n"
     ]
    }
   ],
   "source": [
    "civ = babylon_race_fixture()\n",
    "\n",
    "civ.stats()"
   ]
  },
  {
   "cell_type": "code",
   "execution_count": 22,
   "id": "456c0449",
   "metadata": {},
   "outputs": [
    {
     "data": {
      "text/plain": [
       "5"
      ]
     },
     "execution_count": 22,
     "metadata": {},
     "output_type": "execute_result"
    }
   ],
   "source": [
    "capital = civ.cities[1]\n",
    "capital.get_growth_progress()"
   ]
  },
  {
   "cell_type": "code",
   "execution_count": null,
   "id": "8884aaab",
   "metadata": {},
   "outputs": [],
   "source": []
  }
 ],
 "metadata": {
  "kernelspec": {
   "display_name": "Python 3",
   "language": "python",
   "name": "python3"
  },
  "language_info": {
   "codemirror_mode": {
    "name": "ipython",
    "version": 3
   },
   "file_extension": ".py",
   "mimetype": "text/x-python",
   "name": "python",
   "nbconvert_exporter": "python",
   "pygments_lexer": "ipython3",
   "version": "3.11.4"
  }
 },
 "nbformat": 4,
 "nbformat_minor": 5
}
